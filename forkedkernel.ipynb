{
 "cells": [
  {
   "cell_type": "markdown",
   "metadata": {
    "_cell_guid": "762b4321-9818-4397-88fc-f5090d48aefc",
    "_execution_state": "idle",
    "_uuid": "f36ff51f7a8011531c0fc6f45a8e1bca37980870"
   },
   "source": [
    "## Featured in [The Wall Street Journal][1].\n",
    "\n",
    "  [1]: https://www.wsj.com/articles/fans-geek-out-over-game-of-thrones-data-1499877067"
   ]
  },
  {
   "cell_type": "code",
   "execution_count": 1,
   "metadata": {
    "_cell_guid": "e4a6ad63-122e-44a9-9a17-50fc75cc9d87",
    "_execution_state": "idle",
    "_uuid": "f7a98aa52426b1353eae4adb2e0cf348438d9eea",
    "collapsed": true
   },
   "outputs": [],
   "source": [
    "import numpy as np\n",
    "import pandas as pd\n",
    "import seaborn as sns\n",
    "import matplotlib as mpl\n",
    "import matplotlib.pyplot as plt\n",
    "from collections import Counter\n",
    "import matplotlib.patches as mpatches\n",
    "sns.set_style(\"white\")"
   ]
  },
  {
   "cell_type": "code",
   "execution_count": 2,
   "metadata": {
    "_cell_guid": "701b2c84-0c8f-4456-90b1-bdb418228861",
    "_execution_state": "idle",
    "_uuid": "a036de605a0746314e96fe4304a504dd14893f75",
    "collapsed": true
   },
   "outputs": [],
   "source": [
    "plt.rcParams[\"axes.labelsize\"] = 16.\n",
    "plt.rcParams[\"xtick.labelsize\"] = 14.\n",
    "plt.rcParams[\"ytick.labelsize\"] = 14.\n",
    "plt.rcParams[\"legend.fontsize\"] = 12.\n",
    "plt.rcParams[\"figure.figsize\"] = [15., 6.]"
   ]
  },
  {
   "cell_type": "code",
   "execution_count": 4,
   "metadata": {
    "_cell_guid": "e36b630b-0d43-46cd-a6ec-266b10ac84c8",
    "_execution_state": "idle",
    "_uuid": "d483ad807be792e5e4eb17c2423333f07c0a98dd"
   },
   "outputs": [],
   "source": [
    "battles = pd.read_csv(\"battles.csv\")\n",
    "character_deaths = pd.read_csv(\"character-deaths.csv\")\n",
    "character_predictions = pd.read_csv(\"character-predictions.csv\")\n",
    " "
   ]
  },
  {
   "cell_type": "code",
   "execution_count": 5,
   "metadata": {},
   "outputs": [
    {
     "data": {
      "text/html": [
       "<div>\n",
       "<style>\n",
       "    .dataframe thead tr:only-child th {\n",
       "        text-align: right;\n",
       "    }\n",
       "\n",
       "    .dataframe thead th {\n",
       "        text-align: left;\n",
       "    }\n",
       "\n",
       "    .dataframe tbody tr th {\n",
       "        vertical-align: top;\n",
       "    }\n",
       "</style>\n",
       "<table border=\"1\" class=\"dataframe\">\n",
       "  <thead>\n",
       "    <tr style=\"text-align: right;\">\n",
       "      <th></th>\n",
       "      <th>name</th>\n",
       "      <th>year</th>\n",
       "      <th>battle_number</th>\n",
       "      <th>attacker_king</th>\n",
       "      <th>defender_king</th>\n",
       "      <th>attacker_1</th>\n",
       "      <th>attacker_2</th>\n",
       "      <th>attacker_3</th>\n",
       "      <th>attacker_4</th>\n",
       "      <th>defender_1</th>\n",
       "      <th>...</th>\n",
       "      <th>major_death</th>\n",
       "      <th>major_capture</th>\n",
       "      <th>attacker_size</th>\n",
       "      <th>defender_size</th>\n",
       "      <th>attacker_commander</th>\n",
       "      <th>defender_commander</th>\n",
       "      <th>summer</th>\n",
       "      <th>location</th>\n",
       "      <th>region</th>\n",
       "      <th>note</th>\n",
       "    </tr>\n",
       "  </thead>\n",
       "  <tbody>\n",
       "    <tr>\n",
       "      <th>0</th>\n",
       "      <td>Battle of the Golden Tooth</td>\n",
       "      <td>298</td>\n",
       "      <td>1</td>\n",
       "      <td>Joffrey/Tommen Baratheon</td>\n",
       "      <td>Robb Stark</td>\n",
       "      <td>Lannister</td>\n",
       "      <td>NaN</td>\n",
       "      <td>NaN</td>\n",
       "      <td>NaN</td>\n",
       "      <td>Tully</td>\n",
       "      <td>...</td>\n",
       "      <td>1.0</td>\n",
       "      <td>0.0</td>\n",
       "      <td>15000.0</td>\n",
       "      <td>4000.0</td>\n",
       "      <td>Jaime Lannister</td>\n",
       "      <td>Clement Piper, Vance</td>\n",
       "      <td>1.0</td>\n",
       "      <td>Golden Tooth</td>\n",
       "      <td>The Westerlands</td>\n",
       "      <td>NaN</td>\n",
       "    </tr>\n",
       "    <tr>\n",
       "      <th>1</th>\n",
       "      <td>Battle at the Mummer's Ford</td>\n",
       "      <td>298</td>\n",
       "      <td>2</td>\n",
       "      <td>Joffrey/Tommen Baratheon</td>\n",
       "      <td>Robb Stark</td>\n",
       "      <td>Lannister</td>\n",
       "      <td>NaN</td>\n",
       "      <td>NaN</td>\n",
       "      <td>NaN</td>\n",
       "      <td>Baratheon</td>\n",
       "      <td>...</td>\n",
       "      <td>1.0</td>\n",
       "      <td>0.0</td>\n",
       "      <td>NaN</td>\n",
       "      <td>120.0</td>\n",
       "      <td>Gregor Clegane</td>\n",
       "      <td>Beric Dondarrion</td>\n",
       "      <td>1.0</td>\n",
       "      <td>Mummer's Ford</td>\n",
       "      <td>The Riverlands</td>\n",
       "      <td>NaN</td>\n",
       "    </tr>\n",
       "    <tr>\n",
       "      <th>2</th>\n",
       "      <td>Battle of Riverrun</td>\n",
       "      <td>298</td>\n",
       "      <td>3</td>\n",
       "      <td>Joffrey/Tommen Baratheon</td>\n",
       "      <td>Robb Stark</td>\n",
       "      <td>Lannister</td>\n",
       "      <td>NaN</td>\n",
       "      <td>NaN</td>\n",
       "      <td>NaN</td>\n",
       "      <td>Tully</td>\n",
       "      <td>...</td>\n",
       "      <td>0.0</td>\n",
       "      <td>1.0</td>\n",
       "      <td>15000.0</td>\n",
       "      <td>10000.0</td>\n",
       "      <td>Jaime Lannister, Andros Brax</td>\n",
       "      <td>Edmure Tully, Tytos Blackwood</td>\n",
       "      <td>1.0</td>\n",
       "      <td>Riverrun</td>\n",
       "      <td>The Riverlands</td>\n",
       "      <td>NaN</td>\n",
       "    </tr>\n",
       "    <tr>\n",
       "      <th>3</th>\n",
       "      <td>Battle of the Green Fork</td>\n",
       "      <td>298</td>\n",
       "      <td>4</td>\n",
       "      <td>Robb Stark</td>\n",
       "      <td>Joffrey/Tommen Baratheon</td>\n",
       "      <td>Stark</td>\n",
       "      <td>NaN</td>\n",
       "      <td>NaN</td>\n",
       "      <td>NaN</td>\n",
       "      <td>Lannister</td>\n",
       "      <td>...</td>\n",
       "      <td>1.0</td>\n",
       "      <td>1.0</td>\n",
       "      <td>18000.0</td>\n",
       "      <td>20000.0</td>\n",
       "      <td>Roose Bolton, Wylis Manderly, Medger Cerwyn, H...</td>\n",
       "      <td>Tywin Lannister, Gregor Clegane, Kevan Lannist...</td>\n",
       "      <td>1.0</td>\n",
       "      <td>Green Fork</td>\n",
       "      <td>The Riverlands</td>\n",
       "      <td>NaN</td>\n",
       "    </tr>\n",
       "    <tr>\n",
       "      <th>4</th>\n",
       "      <td>Battle of the Whispering Wood</td>\n",
       "      <td>298</td>\n",
       "      <td>5</td>\n",
       "      <td>Robb Stark</td>\n",
       "      <td>Joffrey/Tommen Baratheon</td>\n",
       "      <td>Stark</td>\n",
       "      <td>Tully</td>\n",
       "      <td>NaN</td>\n",
       "      <td>NaN</td>\n",
       "      <td>Lannister</td>\n",
       "      <td>...</td>\n",
       "      <td>1.0</td>\n",
       "      <td>1.0</td>\n",
       "      <td>1875.0</td>\n",
       "      <td>6000.0</td>\n",
       "      <td>Robb Stark, Brynden Tully</td>\n",
       "      <td>Jaime Lannister</td>\n",
       "      <td>1.0</td>\n",
       "      <td>Whispering Wood</td>\n",
       "      <td>The Riverlands</td>\n",
       "      <td>NaN</td>\n",
       "    </tr>\n",
       "  </tbody>\n",
       "</table>\n",
       "<p>5 rows × 25 columns</p>\n",
       "</div>"
      ],
      "text/plain": [
       "                            name  year  battle_number  \\\n",
       "0     Battle of the Golden Tooth   298              1   \n",
       "1    Battle at the Mummer's Ford   298              2   \n",
       "2             Battle of Riverrun   298              3   \n",
       "3       Battle of the Green Fork   298              4   \n",
       "4  Battle of the Whispering Wood   298              5   \n",
       "\n",
       "              attacker_king             defender_king attacker_1 attacker_2  \\\n",
       "0  Joffrey/Tommen Baratheon                Robb Stark  Lannister        NaN   \n",
       "1  Joffrey/Tommen Baratheon                Robb Stark  Lannister        NaN   \n",
       "2  Joffrey/Tommen Baratheon                Robb Stark  Lannister        NaN   \n",
       "3                Robb Stark  Joffrey/Tommen Baratheon      Stark        NaN   \n",
       "4                Robb Stark  Joffrey/Tommen Baratheon      Stark      Tully   \n",
       "\n",
       "  attacker_3 attacker_4 defender_1 ...  major_death  major_capture  \\\n",
       "0        NaN        NaN      Tully ...          1.0            0.0   \n",
       "1        NaN        NaN  Baratheon ...          1.0            0.0   \n",
       "2        NaN        NaN      Tully ...          0.0            1.0   \n",
       "3        NaN        NaN  Lannister ...          1.0            1.0   \n",
       "4        NaN        NaN  Lannister ...          1.0            1.0   \n",
       "\n",
       "   attacker_size defender_size  \\\n",
       "0        15000.0        4000.0   \n",
       "1            NaN         120.0   \n",
       "2        15000.0       10000.0   \n",
       "3        18000.0       20000.0   \n",
       "4         1875.0        6000.0   \n",
       "\n",
       "                                  attacker_commander  \\\n",
       "0                                    Jaime Lannister   \n",
       "1                                     Gregor Clegane   \n",
       "2                       Jaime Lannister, Andros Brax   \n",
       "3  Roose Bolton, Wylis Manderly, Medger Cerwyn, H...   \n",
       "4                          Robb Stark, Brynden Tully   \n",
       "\n",
       "                                  defender_commander  summer         location  \\\n",
       "0                               Clement Piper, Vance     1.0     Golden Tooth   \n",
       "1                                   Beric Dondarrion     1.0    Mummer's Ford   \n",
       "2                      Edmure Tully, Tytos Blackwood     1.0         Riverrun   \n",
       "3  Tywin Lannister, Gregor Clegane, Kevan Lannist...     1.0       Green Fork   \n",
       "4                                    Jaime Lannister     1.0  Whispering Wood   \n",
       "\n",
       "            region note  \n",
       "0  The Westerlands  NaN  \n",
       "1   The Riverlands  NaN  \n",
       "2   The Riverlands  NaN  \n",
       "3   The Riverlands  NaN  \n",
       "4   The Riverlands  NaN  \n",
       "\n",
       "[5 rows x 25 columns]"
      ]
     },
     "execution_count": 5,
     "metadata": {},
     "output_type": "execute_result"
    }
   ],
   "source": [
    "battles.head()"
   ]
  },
  {
   "cell_type": "code",
   "execution_count": 6,
   "metadata": {},
   "outputs": [
    {
     "data": {
      "text/plain": [
       "name                   0\n",
       "year                   0\n",
       "battle_number          0\n",
       "attacker_king          2\n",
       "defender_king          3\n",
       "attacker_1             0\n",
       "attacker_2            28\n",
       "attacker_3            35\n",
       "attacker_4            36\n",
       "defender_1             1\n",
       "defender_2            36\n",
       "defender_3            38\n",
       "defender_4            38\n",
       "attacker_outcome       1\n",
       "battle_type            1\n",
       "major_death            1\n",
       "major_capture          1\n",
       "attacker_size         14\n",
       "defender_size         19\n",
       "attacker_commander     1\n",
       "defender_commander    10\n",
       "summer                 1\n",
       "location               1\n",
       "region                 0\n",
       "note                  33\n",
       "dtype: int64"
      ]
     },
     "execution_count": 6,
     "metadata": {},
     "output_type": "execute_result"
    }
   ],
   "source": [
    "battles.isnull().sum()"
   ]
  },
  {
   "cell_type": "code",
   "execution_count": 10,
   "metadata": {},
   "outputs": [
    {
     "data": {
      "text/plain": [
       "<matplotlib.axes._subplots.AxesSubplot at 0x911ae50d68>"
      ]
     },
     "execution_count": 10,
     "metadata": {},
     "output_type": "execute_result"
    }
   ],
   "source": [
    "sb.countplot(x='attacker_outcome',data=battles, palette='hls')"
   ]
  },
  {
   "cell_type": "code",
   "execution_count": 8,
   "metadata": {
    "collapsed": true
   },
   "outputs": [],
   "source": [
    "import seaborn as sb"
   ]
  },
  {
   "cell_type": "code",
   "execution_count": 11,
   "metadata": {
    "collapsed": true
   },
   "outputs": [],
   "source": [
    "%matplotlib inline"
   ]
  },
  {
   "cell_type": "code",
   "execution_count": 12,
   "metadata": {},
   "outputs": [
    {
     "data": {
      "text/plain": [
       "<matplotlib.axes._subplots.AxesSubplot at 0x91170a69b0>"
      ]
     },
     "execution_count": 12,
     "metadata": {},
     "output_type": "execute_result"
    },
    {
     "data": {
      "image/png": "[encoded data removed]",
      "text/plain": [
       "<matplotlib.figure.Figure at 0x911afdb588>"
      ]
     },
     "metadata": {},
     "output_type": "display_data"
    }
   ],
   "source": [
    "sb.countplot(x='attacker_outcome',data=battles, palette='hls')"
   ]
  },
  {
   "cell_type": "markdown",
   "metadata": {
    "_cell_guid": "2bb21e8b-7d19-438e-8fb9-18bb2457a400",
    "_uuid": "c2bf1a22f55c5ea130698fbcf29450ff891548bb"
   },
   "source": [
    "## New attributes\n",
    "1. *defender_count* – Number of major houses on defending side\n",
    "2. *attacker_count* – Number of major houses on attacking side\n",
    "3. *att_comm_count* – Number of commanders on attacking side\n",
    "4. *no_of_books* – Number of books a character appeared in"
   ]
  },
  {
   "cell_type": "code",
   "execution_count": 13,
   "metadata": {
    "_cell_guid": "0b3cb149-9773-4ff1-a260-61f6a4681c48",
    "_execution_state": "idle",
    "_uuid": "52f226ef98cc5c4b8698e4108c37eb99dd0e4c2f",
    "collapsed": true
   },
   "outputs": [],
   "source": [
    "battles.loc[:, \"defender_count\"] = (4 - battles[[\"defender_1\", \"defender_2\", \"defender_3\", \"defender_4\"]].isnull().sum(axis = 1))\n",
    "battles.loc[:, \"attacker_count\"] = (4 - battles[[\"attacker_1\", \"attacker_2\", \"attacker_3\", \"attacker_4\"]].isnull().sum(axis = 1))\n",
    "battles.loc[:, \"att_comm_count\"] = [len(x) if type(x) == list else np.nan for x in battles.attacker_commander.str.split(\",\")]\n",
    "character_predictions.loc[:, \"no_of_books\"] = character_predictions[[x for x in character_predictions.columns if x.startswith(\"book\")]].sum(axis = 1)"
   ]
  },
  {
   "cell_type": "markdown",
   "metadata": {
    "_cell_guid": "1cb2efaa-3ca6-4307-ac37-bddd871baa86",
    "_execution_state": "idle",
    "_uuid": "4ff367f70e145450b9624895a77a9ab380fa7fcd"
   },
   "source": [
    "# Exploratory Analysis"
   ]
  },
  {
   "cell_type": "markdown",
   "metadata": {
    "_cell_guid": "4ffca823-3696-4137-b5f9-58b327ebcb99",
    "_uuid": "91b8e5c9c51a748c06f051fe4ce977941c7f3ac9"
   },
   "source": [
    "## Major death/capture events by year"
   ]
  },
  {
   "cell_type": "code",
   "execution_count": null,
   "metadata": {
    "_cell_guid": "645bd299-550d-45ad-ada8-d69022d312f5",
    "_execution_state": "idle",
    "_uuid": "4aa497cb3db5aaed381bd5f0a9752135b0753bd3",
    "collapsed": true
   },
   "outputs": [],
   "source": [
    "p = battles.groupby('year').sum()[[\"major_death\", \"major_capture\"]].plot.bar(rot = 0)\n",
    "_ = p.set(xlabel = \"Year\", ylabel = \"No. of Death/Capture Events\", ylim = (0, 9)), p.legend([\"Major Deaths\", \"Major Captures\"])"
   ]
  },
  {
   "cell_type": "markdown",
   "metadata": {
    "_cell_guid": "62657591-68d6-4de1-96b5-5d0ed3c9b893",
    "_uuid": "60b440a4391c0672f25dd1e4fbce0951b147ed06"
   },
   "source": [
    "## Impact of army size on outcome\n",
    "[Based on ggplot code from this notebook](https://github.com/chrisalbon/war_of_the_five_kings_dataset/blob/master/exploratory_analysis.ipynb)"
   ]
  },
  {
   "cell_type": "code",
   "execution_count": null,
   "metadata": {
    "_cell_guid": "5d4ae3d7-d48e-4334-8882-455815264c5f",
    "_execution_state": "idle",
    "_uuid": "cbc2a8c9443b2d6bdcbacaa1b5bf55731f0a262e",
    "collapsed": true
   },
   "outputs": [],
   "source": [
    "data = battles.dropna(axis = 0, subset = [[\"attacker_size\", \"defender_size\", \"attacker_outcome\"]]).copy(deep = True)\n",
    "colors = [sns.color_palette()[0] if x == \"win\" else \"lightgray\" for x in data.attacker_outcome.values]\n",
    "p = data.plot.scatter(\"attacker_size\", \"defender_size\", c = colors, s = 100, lw = 2.)\n",
    "_ = p.set(xlabel = \"Attacker Size\", ylabel = \"Defender Size\")"
   ]
  },
  {
   "cell_type": "markdown",
   "metadata": {
    "_cell_guid": "5c821739-805d-4cc5-b622-5d7a00d6a6c4",
    "_uuid": "9349789aebe800f9c41260a29c9378c47622ec2f"
   },
   "source": [
    "## How often were there more than one major houses on the attacking side?"
   ]
  },
  {
   "cell_type": "code",
   "execution_count": null,
   "metadata": {
    "_cell_guid": "b9c8e374-9127-4f0c-bbfe-cc20a2865870",
    "_execution_state": "idle",
    "_uuid": "cf5f93a04927e088351d8d44539a6c7cae19a501",
    "collapsed": true
   },
   "outputs": [],
   "source": [
    "p = battles.attacker_count.value_counts().sort_index().plot.bar(rot = 0)\n",
    "_ = p.set(xlabel = \"No. of Major Attacker Houses\", ylabel = \"Count\")"
   ]
  },
  {
   "cell_type": "markdown",
   "metadata": {
    "_cell_guid": "11f238c9-20b4-4f0c-a489-d0e938741309",
    "_uuid": "070f4401b24775e8740ad027cd5c18a14250197a"
   },
   "source": [
    "## Which pairs fought the most battles?"
   ]
  },
  {
   "cell_type": "code",
   "execution_count": null,
   "metadata": {
    "_cell_guid": "63f25f27-a179-4651-a92f-071702a9e60b",
    "_execution_state": "idle",
    "_uuid": "84f6d54bab6e1b8e617ff5e1aeb07346a36fcf9c",
    "collapsed": true
   },
   "outputs": [],
   "source": [
    "#Ignoring records where either attacker_king or defender_king is null. Also ignoring one record where both have the same value.\n",
    "c = list(Counter([tuple(set(x)) for x in battles.dropna(subset = [\"attacker_king\", \"defender_king\"])[[\"attacker_king\", \"defender_king\"]].values if len(set(x)) > 1]).items())\n",
    "p = pd.DataFrame(c).sort_values(1).plot.barh(figsize = (10, 6))\n",
    "_ = p.set(yticklabels = [\"%s vs. %s\" % (x[0], x[1]) for x in list(zip(*c))[0]], xlabel = \"No. of Battles\"), p.legend(\"\")"
   ]
  },
  {
   "cell_type": "markdown",
   "metadata": {
    "_cell_guid": "5ca4f66c-4d04-448b-bd94-63068b16462f",
    "_uuid": "b188e1692f7f75338690c47fc4174d83694f9a5d"
   },
   "source": [
    "## How many commanders did armies of different kings have?"
   ]
  },
  {
   "cell_type": "code",
   "execution_count": null,
   "metadata": {
    "_cell_guid": "0322c93b-f4be-45bf-89dd-f53c161f050b",
    "_execution_state": "idle",
    "_uuid": "ddf1921936876416fd79a65b7b3db3b32234c19d",
    "collapsed": true
   },
   "outputs": [],
   "source": [
    "p = sns.boxplot(\"att_comm_count\", \"attacker_king\", data = battles, saturation = .6, fliersize = 10., palette = [\"lightgray\", sns.color_palette()[1], \"grey\", \"darkblue\"])\n",
    "_ = p.set(xlabel = \"No. of Attacker Commanders\", ylabel = \"Attacker King\", xticks = range(8))"
   ]
  },
  {
   "cell_type": "markdown",
   "metadata": {
    "_cell_guid": "d5a4fe93-68f4-4082-b90a-bf77fed59c48",
    "_uuid": "f651178cab0795b32871d3cd6fe5b6a8fe05c901"
   },
   "source": [
    "## How many major death/capture events occur in each region?"
   ]
  },
  {
   "cell_type": "code",
   "execution_count": null,
   "metadata": {
    "_cell_guid": "3363d942-cc8f-4c8b-bbd8-8223f919e117",
    "_execution_state": "idle",
    "_uuid": "ee2852fde1f6ee570de06799992af9d0f3be0918",
    "collapsed": true
   },
   "outputs": [],
   "source": [
    "data = battles.groupby(\"region\").sum()[[\"major_death\", \"major_capture\"]]\n",
    "p = pd.concat([data, battles.region.value_counts().to_frame()], axis = 1).sort_values(\"region\", ascending = False).copy(deep = True).plot.bar(color = [sns.color_palette()[1], \"grey\", \"darkblue\"], rot = 0)\n",
    "_ = p.set(xlabel = \"Region\", ylabel = \"No. of Events\"), p.legend([\"Major Deaths\", \"Major Captures\", \"No. of Battles\"], fontsize = 12.)"
   ]
  },
  {
   "cell_type": "markdown",
   "metadata": {
    "_cell_guid": "db3321c9-568b-4a8b-89b7-c61885437b21",
    "_uuid": "24ae52072fb7cf06a648a124712e8bd3e227d823"
   },
   "source": [
    "## Is there a relationship between survival and having dead relations?"
   ]
  },
  {
   "cell_type": "code",
   "execution_count": null,
   "metadata": {
    "_cell_guid": "e74041a6-b200-4e4a-8f97-de1b6014fcbd",
    "_execution_state": "idle",
    "_uuid": "81a72ade04cf628cf68e39f264ca195129fff12e",
    "collapsed": true
   },
   "outputs": [],
   "source": [
    "data = character_predictions.groupby([\"boolDeadRelations\", \"isAlive\"]).count()[\"S.No\"].unstack().copy(deep = True)\n",
    "p = data.div(data.sum(axis = 1), axis = 0).plot.barh(stacked = True, rot = 0, width = .5)\n",
    "_ = p.set_xlim([0, 1]), p.set(yticklabels = [\"No\", \"Yes\"], xticklabels = \"\", xlabel = \"Proportion of Dead vs. Alive\", ylabel = \"Has Dead Relations\"), p.legend([\"Dead\", \"Alive\"])"
   ]
  },
  {
   "cell_type": "markdown",
   "metadata": {
    "_cell_guid": "d6478730-7908-4abf-bba5-6e5363e91123",
    "_uuid": "bc90d80c8665b07516026dc8c39d0db4772fe148"
   },
   "source": [
    "## How does appearing in more books relate to survival?"
   ]
  },
  {
   "cell_type": "code",
   "execution_count": null,
   "metadata": {
    "_cell_guid": "235f9ee0-1a09-4db3-8f13-e1605de490af",
    "_execution_state": "idle",
    "_uuid": "5f03fe29d28aff0e4cf7671d58bc0f4519d4d9e6",
    "collapsed": true
   },
   "outputs": [],
   "source": [
    "data = character_predictions.groupby([\"no_of_books\", \"isAlive\"]).count()[\"S.No\"].unstack().copy(deep = True)\n",
    "p = data.div(data.sum(axis = 1), axis = 0).plot.barh(stacked = True, rot = 0, figsize = (15, 8), width = .5)\n",
    "_ = p.set(xticklabels = \"\", xlim = [0, 1], ylabel = \"No. of Books\", xlabel = \"Proportion of Dead vs. Alive\"), p.legend([\"Dead\", \"Alive\"], loc = \"upper right\", ncol = 2, borderpad = -.15)"
   ]
  },
  {
   "cell_type": "markdown",
   "metadata": {
    "_cell_guid": "83ba7686-c2a9-4645-aa22-683657fda00f",
    "_uuid": "6df40fbe46d1c474351eae8b2a153b7afd4a02f6"
   },
   "source": [
    "## How does culture relate to survival?\n",
    "For this, we will rename cultures using (ahem) domain knowledge as many of the culture values map to a single culture."
   ]
  },
  {
   "cell_type": "code",
   "execution_count": null,
   "metadata": {
    "_cell_guid": "fe18888a-f8b1-4a1a-b12e-b5661ed708ef",
    "_execution_state": "idle",
    "_uuid": "96b7d73fd9750ba7aef262374daeb140d561a826",
    "collapsed": true
   },
   "outputs": [],
   "source": [
    "cult = {\n",
    "    'Summer Islands': ['summer islands', 'summer islander', 'summer isles'],\n",
    "    'Ghiscari': ['ghiscari', 'ghiscaricari',  'ghis'],\n",
    "    'Asshai': [\"asshai'i\", 'asshai'],\n",
    "    'Lysene': ['lysene', 'lyseni'],\n",
    "    'Andal': ['andal', 'andals'],\n",
    "    'Braavosi': ['braavosi', 'braavos'],\n",
    "    'Dornish': ['dornishmen', 'dorne', 'dornish'],\n",
    "    'Myrish': ['myr', 'myrish', 'myrmen'],\n",
    "    'Westermen': ['westermen', 'westerman', 'westerlands'],\n",
    "    'Westerosi': ['westeros', 'westerosi'],\n",
    "    'Stormlander': ['stormlands', 'stormlander'],\n",
    "    'Norvoshi': ['norvos', 'norvoshi'],\n",
    "    'Northmen': ['the north', 'northmen'],\n",
    "    'Free Folk': ['wildling', 'first men', 'free folk'],\n",
    "    'Qartheen': ['qartheen', 'qarth'],\n",
    "    'Reach': ['the reach', 'reach', 'reachmen'],\n",
    "}\n",
    "\n",
    "def get_cult(value):\n",
    "    value = value.lower()\n",
    "    v = [k for (k, v) in cult.items() if value in v]\n",
    "    return v[0] if len(v) > 0 else value.title()"
   ]
  },
  {
   "cell_type": "code",
   "execution_count": null,
   "metadata": {
    "_cell_guid": "1e92e84d-c187-4200-ad43-bc9f81dbcdb4",
    "_execution_state": "idle",
    "_uuid": "f971d60f8cb67b880a29c5fe2926ac8c7e370c01",
    "collapsed": true
   },
   "outputs": [],
   "source": [
    "character_predictions.loc[:, \"culture\"] = [get_cult(x) for x in character_predictions.culture.fillna(\"\")]\n",
    "data = character_predictions.groupby([\"culture\", \"isAlive\"]).count()[\"S.No\"].unstack().copy(deep = True)\n",
    "data.loc[:, \"total\"]= data.sum(axis = 1)\n",
    "p = data[data.index != \"\"].sort_values(\"total\")[[0, 1]].plot.barh(stacked = True, rot = 0, figsize = (14, 12),)\n",
    "_ = p.set(xlabel = \"No. of Characters\", ylabel = \"Culture\"), p.legend([\"Dead\", \"Alive\"], loc = \"lower right\")"
   ]
  },
  {
   "cell_type": "markdown",
   "metadata": {
    "_cell_guid": "d2f49a99-46db-4836-9439-a9350dda0d49",
    "_uuid": "2080ada9a2e3bf03dc073d851e5ee56d1b7d9650"
   },
   "source": [
    "## Do larger armies necessarily win?\n",
    "The results for this one are, well, weird as you can see.\n",
    "\n",
    "To be fair, though, I have only considered battles with valid values for *attacker\\_size* and *defender\\_size*, which reduces the record count to 16 down from 37. I am not a GoT fan (yet) nor have I watched the TV series.\n",
    "\n",
    "I read about one of the battles with `NaN` *attacker\\_size* on the [GoT Wikia](http://gameofthrones.wikia.com/wiki/Battle_at_the_Mummer's_Ford), wherein the following is stated under the _Forces_ section:\n",
    "> A raiding party was reported by the Riverlands smallfolk refugees but the Iron Throne detachment was met by a considerably larger force.\n",
    "\n",
    "Based on this, if we assumed that *attacker\\_size* was larger, it would count in favor of the position that larger armies are likelier to win. However, we do not have this data for the remaining 20 battles so we cannot say anything conclusively.\n",
    "\n",
    "**If you are knowledgeable about GoT, do comment below on this.**"
   ]
  },
  {
   "cell_type": "code",
   "execution_count": null,
   "metadata": {
    "_cell_guid": "b7261f41-6779-4ecb-8df3-d9f0e3263263",
    "_execution_state": "idle",
    "_uuid": "fcbecb9e8fee36e4985ac93e834e5f75efd245e0",
    "collapsed": true
   },
   "outputs": [],
   "source": [
    "data = battles.dropna(subset = [\"attacker_size\", \"defender_size\"]).copy(deep = True)\n",
    "data = pd.concat([(data.attacker_size - data.defender_size).to_frame(), battles[[\"attacker_outcome\"]]], axis = 1, join = \"inner\")\n",
    "data = data[data[0] != 0]\n",
    "p = data[0].plot.barh(figsize = (12, 8), width = .8, color = [sns.color_palette()[0] if x == \"win\" else sns.color_palette()[2] if x == \"loss\" else \"white\" for x in data.attacker_outcome.values])\n",
    "_ = p.legend(handles = [mpatches.Patch(color = sns.color_palette()[0], label = \"Victory\", aa = True), mpatches.Patch(color = sns.color_palette()[2], label = \"Loss\", aa = True)])\n",
    "_ = p.axvline(0, color = 'k'), p.set(yticklabels = battles.name.iloc[data.index].values, xlabel = \"Difference in Army Size (attacker_size - defender_size)\", ylabel = \"Battle Name\")"
   ]
  },
  {
   "cell_type": "markdown",
   "metadata": {
    "_cell_guid": "155c8174-beee-4358-b289-ba2ca98e543f",
    "_uuid": "ae06fbe9a2bc172a711579bf203c1ec77ae6b5e0"
   },
   "source": [
    "## How often did kings fight different types of battles?\n",
    "The data contains four types of battles of which _Pitched Battle_ is the most frequent and _Razing_ the least.\n",
    "\n",
    "It turns out that _Ambush_ seems to be Robb Stark's favorite type of attack. All five of his _Ambush_ type battles are against Joffrey/Tommen Baratheon. Robb Stark has also been a target of an ambush: twice by Balon/Euron Greyjoy and thrice by Joffrey/Tommen Baratheon.\n",
    "\n",
    "Balon/Euron Greyjoy has fought each type of battle at least once as an attacker while Joffrey/Tommen Baratheon has done so as a defender.\n",
    "\n",
    "See chart below.\n",
    "\n",
    "*(Using code from matplotlib's radar chart [example](http://matplotlib.org/examples/api/radar_chart.html).)*"
   ]
  },
  {
   "cell_type": "code",
   "execution_count": null,
   "metadata": {
    "_cell_guid": "d6b32cb0-a0fa-4b09-9d3b-15ab476c63f9",
    "_execution_state": "idle",
    "_uuid": "c21a12c9901c41d74e127932561d0d53e924c2d8",
    "collapsed": true
   },
   "outputs": [],
   "source": [
    "from matplotlib.path import Path\n",
    "from matplotlib.spines import Spine\n",
    "from matplotlib.projections.polar import PolarAxes\n",
    "from matplotlib.projections import register_projection\n",
    "\n",
    "def radar_factory(num_vars, frame = \"circle\"):\n",
    "    theta = np.linspace(0, 2 * np.pi, num_vars, endpoint = False)\n",
    "    theta += np.pi / 2\n",
    "\n",
    "    def draw_poly_patch(self):\n",
    "        verts = unit_poly_verts(theta)\n",
    "        return plt.Polygon(verts, closed = True, edgecolor = 'k')\n",
    "\n",
    "    def draw_circle_patch(self):\n",
    "        return plt.Circle((0.5, 0.5), 0.5)\n",
    "\n",
    "    patch_dict = {'polygon': draw_poly_patch, 'circle': draw_circle_patch}\n",
    "    if frame not in patch_dict: raise ValueError('unknown value for `frame`: %s' % frame)\n",
    "\n",
    "    class RadarAxes(PolarAxes):\n",
    "        name, RESOLUTION, draw_patch = 'radar', 1, patch_dict[frame]\n",
    "\n",
    "        def fill(self, *args, **kwargs):\n",
    "            closed = kwargs.pop(\"closed\", True)\n",
    "            return super(RadarAxes, self).fill(closed = closed, *args, **kwargs)\n",
    "\n",
    "        def plot(self, *args, **kwargs):\n",
    "            lines = super(RadarAxes, self).plot(*args, **kwargs)\n",
    "            for line in lines: self._close_line(line)\n",
    "\n",
    "        def _close_line(self, line):\n",
    "            x, y = line.get_data()\n",
    "            if x[0] != x[-1]:\n",
    "                x = np.concatenate((x, [x[0]]))\n",
    "                y = np.concatenate((y, [y[0]]))\n",
    "                line.set_data(x, y)\n",
    "\n",
    "        def set_varlabels(self, labels):\n",
    "            self.set_thetagrids(np.degrees(theta), labels)\n",
    "\n",
    "        def _gen_axes_patch(self):\n",
    "            return self.draw_patch()\n",
    "\n",
    "        def _gen_axes_spines(self):\n",
    "            if frame == \"circle\": return PolarAxes._gen_axes_spines(self)\n",
    "            spine_type, verts = \"circle\", unit_poly_verts(theta)\n",
    "            verts.append(verts[0])\n",
    "            path = Path(verts)\n",
    "            spine = Spine(self, spine_type, path)\n",
    "            spine.set_transform(self.transAxes)\n",
    "            return {'polar': spine}\n",
    "    register_projection(RadarAxes)\n",
    "    return theta\n",
    "\n",
    "def unit_poly_verts(theta):\n",
    "    x0, y0, r = [0.5] * 3\n",
    "    verts = [(r * np.cos(t) + x0, r * np.sin(t) + y0) for t in theta]\n",
    "    return verts\n",
    "\n",
    "kings = list(battles.attacker_king.append(battles.defender_king).fillna(\"Unknown\").unique())\n",
    "battle_types = list(battles.battle_type.fillna(\"Unknown\").str.title().unique())\n",
    "\n",
    "def example_data():\n",
    "    data = battles[[\"battle_type\", \"attacker_king\", \"defender_king\", \"name\"]].copy(deep = True).fillna(\"Unknown\")\n",
    "    data.loc[:, \"battle_type\"] = data.battle_type.fillna(\"Unknown\").str.title()\n",
    "    grouped, ret_data = data.groupby([\"attacker_king\", \"battle_type\"]).count()[[\"name\"]], [battle_types]\n",
    "    ret_data.append((\"As Attacker King\", [[grouped.loc[(kings[j], battle_types[i])].values[0]\n",
    "                                    if (kings[j], battle_types[i]) in grouped.index else 0\n",
    "                                    for i in range(len(battle_types))] for j in range(len(kings))]))\n",
    "    grouped = data.groupby([\"defender_king\", \"battle_type\"]).count()[[\"name\"]]\n",
    "    ret_data.append((\"As Defender King\", [[grouped.loc[(kings[j], battle_types[i])].values[0]\n",
    "                                    if (kings[j], battle_types[i]) in grouped.index else 0\n",
    "                                    for i in range(len(battle_types))] for j in range(len(kings))]))\n",
    "    return ret_data\n",
    "\n",
    "N = 5\n",
    "theta, data = radar_factory(N, frame = \"polygon\"), example_data()\n",
    "spoke_labels, fig = data.pop(0), plt.figure(figsize = (14, 14))\n",
    "fig.subplots_adjust(wspace = 0.35, hspace = 0.20, top = 0.85, bottom = 0.05)\n",
    "colors = sns.color_palette() + [\"k\"]\n",
    "for n, (title, case_data) in enumerate(data):\n",
    "    ax, _ = fig.add_subplot(2, 2, n + 1, projection = \"radar\"), plt.rgrids([1, 2, 3, 4, 5])\n",
    "    ax.set_title(title, weight = \"bold\", position = (0.5, 1.1), horizontalalignment = \"center\", verticalalignment = \"center\", fontsize = 13.)\n",
    "    for d, color in zip(case_data, colors):\n",
    "        ax.plot(theta, d, color = color)\n",
    "        ax.fill(theta, d, facecolor = color, alpha = 0.5)\n",
    "    ax.set_varlabels(spoke_labels)\n",
    "plt.subplot(2, 2, 1)\n",
    "labels = kings\n",
    "legend = plt.legend(labels, loc = (.95, .95), labelspacing = 0.1)\n",
    "plt.setp(legend.get_texts(), fontsize = \"large\")\n",
    "plt.figtext(0.5, 0.965, \"Types of Battles Fought By Kings as Attacker/Defender\", ha = \"center\", color = \"k\", size = 16.)\n",
    "plt.show()"
   ]
  },
  {
   "cell_type": "code",
   "execution_count": null,
   "metadata": {
    "_cell_guid": "7a24b88d-d231-4d4c-a0bc-70787bae602c",
    "_execution_state": "idle",
    "_uuid": "b2d4d9e25e0b95c6555b9dbf9771c7467b028e0c",
    "collapsed": true
   },
   "outputs": [],
   "source": [
    "death_preds = character_predictions.copy(deep = True)"
   ]
  },
  {
   "cell_type": "markdown",
   "metadata": {
    "_cell_guid": "69710b69-394f-431a-b7cd-f0d1cbdb49b3",
    "_uuid": "dc64e863034ec2d27c0fb1f4b8f29e57d100181f"
   },
   "source": [
    "# Predictive Experiment\n",
    "I have added this quick predictive experiment to complete the analysis. It does not go into too much depth. However, I will try and add more things as and when I get time."
   ]
  },
  {
   "cell_type": "code",
   "execution_count": null,
   "metadata": {
    "_cell_guid": "7128ba1b-4f3b-4701-8d11-6266cf11fe63",
    "_execution_state": "idle",
    "_uuid": "085eb330ec7f43b3e7719e6225e999b94f82a61c",
    "collapsed": true
   },
   "outputs": [],
   "source": [
    "from xgboost import plot_importance\n",
    "from xgboost import XGBClassifier as XGBC\n",
    "from sklearn.linear_model import LogisticRegression\n",
    "from sklearn.metrics import roc_auc_score, roc_curve, log_loss, confusion_matrix, precision_score, recall_score, classification_report, accuracy_score"
   ]
  },
  {
   "cell_type": "markdown",
   "metadata": {
    "_cell_guid": "0d2ff403-2a00-408b-beff-2b351f86b748",
    "_uuid": "2dc59e65cdf88c2d8612e72b868532ec3051aa1e"
   },
   "source": [
    "## A bit of preprocessing\n",
    "We quickly convert non-numeric categorical features to numeric. Then we drop some columns and replace missing values with -1."
   ]
  },
  {
   "cell_type": "code",
   "execution_count": null,
   "metadata": {
    "_cell_guid": "0ae8114a-895a-4106-84ba-308fa15a6eb6",
    "_execution_state": "idle",
    "_uuid": "261ce2834a628856285c09ad2076ae3be89aaa16",
    "collapsed": true
   },
   "outputs": [],
   "source": [
    "death_preds.loc[:, \"culture\"] = [get_cult(x) for x in death_preds.culture.fillna(\"\")]\n",
    "death_preds.loc[:, \"title\"] = pd.factorize(death_preds.title)[0]\n",
    "death_preds.loc[:, \"culture\"] = pd.factorize(death_preds.culture)[0]\n",
    "death_preds.loc[:, \"mother\"] = pd.factorize(death_preds.mother)[0]\n",
    "death_preds.loc[:, \"father\"] = pd.factorize(death_preds.father)[0]\n",
    "death_preds.loc[:, \"heir\"] = pd.factorize(death_preds.heir)[0]\n",
    "death_preds.loc[:, \"house\"] = pd.factorize(death_preds.house)[0]\n",
    "death_preds.loc[:, \"spouse\"] = pd.factorize(death_preds.spouse)[0]\n",
    "\n",
    "death_preds.drop([\"name\", \"alive\", \"pred\", \"plod\", \"isAlive\", \"dateOfBirth\"], 1, inplace = True)\n",
    "death_preds.columns = map(lambda x: x.replace(\".\", \"\").replace(\"_\", \"\"), death_preds.columns)\n",
    "death_preds.fillna(value = -1, inplace = True)"
   ]
  },
  {
   "cell_type": "markdown",
   "metadata": {
    "_cell_guid": "e966c23a-5bd0-4ea5-a09a-b3b7a7da14f0",
    "_uuid": "edb67a6bfb0523a0554da3379f80a6696a845617"
   },
   "source": [
    "## Is there a class imbalance?\n",
    "Let us take a look at the class distribution now."
   ]
  },
  {
   "cell_type": "code",
   "execution_count": null,
   "metadata": {
    "_cell_guid": "a2917f76-b086-4e9c-9362-cd8ebea95368",
    "_execution_state": "idle",
    "_uuid": "1f72accf32ad4fac16cc86e8f070e0a7c75bd115",
    "collapsed": true
   },
   "outputs": [],
   "source": [
    "f, ax = plt.subplots(1, 2, figsize = (15, 7))\n",
    "f.suptitle(\"Class Distribution\", fontsize = 18.)\n",
    "_ = death_preds.actual.value_counts().plot.bar(ax = ax[0], rot = 0, color = (sns.color_palette()[0], sns.color_palette()[2])).set(xticklabels = [\"Alive\", \"Deceased\"])\n",
    "_ = death_preds.actual.value_counts().plot.pie(labels = (\"Alive\", \"Deceased\"), autopct = \"%.2f%%\", label = \"\", fontsize = 13., ax = ax[1],\\\n",
    "colors = (sns.color_palette()[0], sns.color_palette()[2]), wedgeprops = {\"linewidth\": 1.5, \"edgecolor\": \"#F7F7F7\"}), ax[1].texts[1].set_color(\"#F7F7F7\"), ax[1].texts[3].set_color(\"#F7F7F7\")"
   ]
  },
  {
   "cell_type": "markdown",
   "metadata": {
    "_cell_guid": "b229733f-ed76-40c6-9c87-ddf464765859",
    "_uuid": "6dae708e6cf49a0758a0307955e033e1725403a7"
   },
   "source": [
    "The class distribution indicates an imbalance. There are many more characters alive than dead. There are several well-known ways to tackle this problem.\n",
    "\n",
    "Two of the simplest ways are undersampling and oversampling. In this case, we will undersample the majority class. We will draw ~70% samples without replacement from the minority *Deceased* class. We will draw an equal number of samples (~350) from the majority *Alive* class.\n",
    "\n",
    "Using this train-test split we will build and compare two models: an XGB Classifier model and a Logistic Regression model."
   ]
  },
  {
   "cell_type": "code",
   "execution_count": null,
   "metadata": {
    "_cell_guid": "de806dc9-5d15-4a2a-a6c6-10a0671eefe0",
    "_execution_state": "idle",
    "_uuid": "ce5b7ed36ff338a40f25b7d293a849f06b4883b4",
    "collapsed": true
   },
   "outputs": [],
   "source": [
    "X = death_preds[death_preds.actual == 0].sample(350, random_state = 62).append(death_preds[death_preds.actual == 1].sample(350, random_state = 62)).copy(deep = True).astype(np.float64)\n",
    "Y = X.actual.values\n",
    "tX = death_preds[~death_preds.index.isin(X.index)].copy(deep = True).astype(np.float64)\n",
    "tY = tX.actual.values\n",
    "X.drop([\"SNo\", \"actual\", \"DateoFdeath\"], 1, inplace = True)\n",
    "tX.drop([\"SNo\", \"actual\", \"DateoFdeath\"], 1, inplace = True)"
   ]
  },
  {
   "cell_type": "markdown",
   "metadata": {
    "_cell_guid": "53e74a63-925d-49fc-a35f-75ce322e9be1",
    "_uuid": "c546ef08fcd454af99d3af7931e1f2852cf10dc6"
   },
   "source": [
    "## XGB Classifier"
   ]
  },
  {
   "cell_type": "code",
   "execution_count": null,
   "metadata": {
    "_cell_guid": "2b9b3493-ea78-4411-b874-f71cdc7fefb4",
    "_execution_state": "idle",
    "_uuid": "8861a595d4b68c44bfeb3c6e4a29efcf6a845938",
    "collapsed": true
   },
   "outputs": [],
   "source": [
    "clf_xgb = XGBC(subsample = .8, colsample_bytree = .8, seed = 14, max_depth = 3).fit(X, Y)\n",
    "preds_xgb = clf_xgb.predict_proba(tX)\n",
    "ax = pd.DataFrame(list(clf_xgb.get_booster().get_fscore().items())).set_index(0)\\\n",
    ".sort_values(1).plot.barh(figsize = (12, 8))\n",
    "_ = ax.set(frame_on = False, ylim = (0, len(clf_xgb.get_booster().get_fscore())), xticklabels = \"\", xlabel = \"\", ylabel = \"\"), ax.legend(\"\")\n",
    "_ = plt.title(\"XGB Feature Importance\", fontsize = 18.)"
   ]
  },
  {
   "cell_type": "markdown",
   "metadata": {
    "_cell_guid": "06c38ed9-026d-4f01-8875-77137c9b03cd",
    "_uuid": "91e581a2058ff477c6d9b73051ce3a12472db343"
   },
   "source": [
    "## Logistic Regression"
   ]
  },
  {
   "cell_type": "code",
   "execution_count": null,
   "metadata": {
    "_cell_guid": "f58eb0ad-1557-4699-9d4c-f71edf54e835",
    "_execution_state": "idle",
    "_uuid": "7d800bc7aec4d52f374e859d874e070ba97992f0",
    "collapsed": true
   },
   "outputs": [],
   "source": [
    "logreg = LogisticRegression(random_state = 14).fit(X, Y)\n",
    "preds_lr = logreg.predict_proba(tX)\n",
    "\n",
    "df = pd.DataFrame(list(zip(tX.columns, logreg.coef_[0])))\n",
    "df = df.reindex(df[1].abs().sort_values().index).set_index(0)\n",
    "ax = df.plot.barh(width = .6, legend = \"\", figsize = (12, 9))\n",
    "ax.set_title(\"Logistic Regression Coefficients\", y = 1.03, fontsize = 16.)\n",
    "_ = ax.set(frame_on = False, xlabel = \"\", xticklabels = \"\", ylabel = \"\")\n",
    "\n",
    "for i, label in enumerate(list(df.index)):\n",
    "    score = df.loc[label][1]\n",
    "    ax.annotate('%.2f' % score, (score + (-.12 if score < 0 else .02), i - .2), fontsize = 10.5)"
   ]
  },
  {
   "cell_type": "markdown",
   "metadata": {
    "_cell_guid": "35c04284-2d5e-404b-839c-4d480cf9c431",
    "_uuid": "501e103285d6346e22e83f4bfdc610beac1e1801"
   },
   "source": [
    "## Comparison of XGB Classifier and Logistic Regression"
   ]
  },
  {
   "cell_type": "markdown",
   "metadata": {
    "_cell_guid": "cc932ba6-9ead-4068-b9a3-3c4614ac5f2b",
    "_execution_state": "idle",
    "_uuid": "77a9240e881f97c7acf679f7e96ae44a682294d2"
   },
   "source": [
    "### Confusion Matrix\n",
    "First we see the confusion matrices for both models. We will normalize these by their row-wise sums before visualizing."
   ]
  },
  {
   "cell_type": "code",
   "execution_count": null,
   "metadata": {
    "_cell_guid": "24acc660-c1d6-4e93-82b6-3caf31e3852b",
    "_execution_state": "idle",
    "_uuid": "704728ce8b95c6eb9f50d2854ab2d65f9cdd9088",
    "collapsed": true
   },
   "outputs": [],
   "source": [
    "f, ax = plt.subplots(1, 2, figsize = (15, 8))\n",
    "f.suptitle(\"Normalized Confusion Matrices\", fontsize = 18.)\n",
    "def make_cm(p, t, axis):\n",
    "    cm = confusion_matrix(tY, np.argmax(p, axis = 1))\n",
    "    cm = cm.astype('float') / cm.sum(axis = 1)[:, np.newaxis]\n",
    "    _ = sns.heatmap(cm, square = True, xticklabels = [\"Deceased\", \"Alive\"], annot = True,\n",
    "                    annot_kws = {\"fontsize\": 13}, yticklabels = [\"Deceased\", \"Alive\"],\n",
    "                    cbar = True, cbar_kws = {\"orientation\": \"horizontal\"}, ax = ax[axis], cmap = \"Blues\").set(\n",
    "        xlabel = \"Predicted Class\", ylabel = \"Actual Class\", title = t)\n",
    "make_cm(preds_xgb, \"XGB Classifier\", 0)\n",
    "make_cm(preds_lr, \"Logistic Regression\", 1)"
   ]
  },
  {
   "cell_type": "markdown",
   "metadata": {
    "_cell_guid": "38fc29be-aca8-40c6-90ce-5bbc6176f62f",
    "_execution_state": "idle",
    "_uuid": "8ed87696d890bd6ee56b8d178853b79d0f0aaba7"
   },
   "source": [
    "### Scorecard\n",
    "Next, we see the scorecard of both models. We use the handy `classification_report` and a number of other functions from `sklearn.metrics` to look at different evaluation metrics such as AUC, log loss, and accuracy."
   ]
  },
  {
   "cell_type": "code",
   "execution_count": null,
   "metadata": {
    "_cell_guid": "e79fdfb9-e94e-4fee-bc74-b2e18fc39082",
    "_execution_state": "idle",
    "_uuid": "b037d76200d1217090cf06c0c13f59d3a832ba2e",
    "collapsed": true
   },
   "outputs": [],
   "source": [
    "print(\"XGB Classifier Performance\\n\" + \"=\" * 26 + \"\\n\", classification_report(tY, np.argmax(preds_xgb, axis = 1), target_names = [\"Deceased\", \"Alive\"]))\n",
    "print(\"AUC      : %.4f\" % roc_auc_score(tY, preds_xgb[:, 1]))\n",
    "print(\"Accuracy : %.4f\" % accuracy_score(tY, np.argmax(preds_xgb, axis = 1)))\n",
    "print(\"Log Loss : %.4f\\n\\n\" % log_loss(tY, preds_xgb[:, 1]))\n",
    "print(\"Logistic Regression Performance\\n\" + \"=\" * 31 + \"\\n\", classification_report(tY, np.argmax(preds_lr, axis = 1), target_names = [\"Deceased\", \"Alive\"]))\n",
    "print(\"AUC      : %.4f\" % roc_auc_score(tY, preds_lr[:, 1]))\n",
    "print(\"Accuracy : %.4f\" % accuracy_score(tY, np.argmax(preds_lr, axis = 1)))\n",
    "print(\"Log Loss : %.4f\" % log_loss(tY, preds_lr[:, 1]))"
   ]
  },
  {
   "cell_type": "markdown",
   "metadata": {
    "_cell_guid": "f362af12-016e-4c89-aed1-09b999df7439",
    "_uuid": "b923f4fc1aba103d7a5dc3cfd9fe2a920eeff207"
   },
   "source": [
    "### ROC Curves\n",
    "Finally, we look at the ROC curves for both models."
   ]
  },
  {
   "cell_type": "code",
   "execution_count": null,
   "metadata": {
    "_cell_guid": "cd0143c5-29d9-4f8d-98df-cf886353f7a4",
    "_execution_state": "idle",
    "_uuid": "2656072bc857f812897d36d98c6b3dd42a2651f5",
    "collapsed": true
   },
   "outputs": [],
   "source": [
    "_ = plt.figure(figsize = (8, 8)), plt.plot(*roc_curve(tY, preds_xgb[:, 1])[:2]), plt.plot(*roc_curve(tY, preds_lr[:, 1])[:2], c = sns.color_palette()[1]), plt.legend([\"XGB Classifier\", \"Logistic Regression\"], loc = \"upper left\")\n",
    "_ = plt.plot((0., 1.), (0., 1.), \"--k\", alpha = .7), plt.xlabel(\"False Positive Rate\"), plt.ylabel(\"True Positive Rate\"), plt.title(\"ROC Curves\", fontsize = 16.)"
   ]
  }
 ],
 "metadata": {
  "_change_revision": 0,
  "_is_fork": false,
  "kernelspec": {
   "display_name": "Python 3",
   "language": "python",
   "name": "python3"
  },
  "language_info": {
   "codemirror_mode": {
    "name": "ipython",
    "version": 3
   },
   "file_extension": ".py",
   "mimetype": "text/x-python",
   "name": "python",
   "nbconvert_exporter": "python",
   "pygments_lexer": "ipython3",
   "version": "3.6.2"
  }
 },
 "nbformat": 4,
 "nbformat_minor": 1
}
