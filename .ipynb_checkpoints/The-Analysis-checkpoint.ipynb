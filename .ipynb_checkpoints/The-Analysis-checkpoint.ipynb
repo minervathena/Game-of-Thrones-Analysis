{
 "cells": [
  {
   "cell_type": "code",
   "execution_count": 1,
   "metadata": {
    "collapsed": true
   },
   "outputs": [],
   "source": [
    "import numpy as np\n",
    "import pandas as pd\n",
    "import seaborn as sns\n",
    "import matplotlib as mpl\n",
    "import matplotlib.pyplot as plt\n",
    "from collections import Counter\n",
    "import matplotlib.patches as mpatches\n",
    "sns.set_style(\"white\")"
   ]
  },
  {
   "cell_type": "code",
   "execution_count": 2,
   "metadata": {},
   "outputs": [
    {
     "name": "stderr",
     "output_type": "stream",
     "text": [
      "C:\\Users\\USER\\Anaconda3\\lib\\site-packages\\sklearn\\cross_validation.py:41: DeprecationWarning: This module was deprecated in version 0.18 in favor of the model_selection module into which all the refactored classes and functions are moved. Also note that the interface of the new CV iterators are different from that of this module. This module will be removed in 0.20.\n",
      "  \"This module will be removed in 0.20.\", DeprecationWarning)\n"
     ]
    }
   ],
   "source": [
    "from pandas import Series, DataFrame\n",
    "from sklearn import preprocessing\n",
    "from sklearn.linear_model import LogisticRegression\n",
    "from sklearn.cross_validation import train_test_split\n",
    "from sklearn import metrics \n",
    "from sklearn.metrics import classification_report"
   ]
  },
  {
   "cell_type": "code",
   "execution_count": 3,
   "metadata": {
    "collapsed": true
   },
   "outputs": [],
   "source": [
    "%matplotlib inline"
   ]
  },
  {
   "cell_type": "code",
   "execution_count": 4,
   "metadata": {
    "collapsed": true
   },
   "outputs": [],
   "source": [
    "battles = pd.read_csv(\"battles.csv\")\n",
    "character_deaths = pd.read_csv(\"character-deaths.csv\")\n",
    "character_predictions = pd.read_csv(\"character-predictions.csv\")"
   ]
  },
  {
   "cell_type": "markdown",
   "metadata": {},
   "source": [
    "# Some data preparation"
   ]
  },
  {
   "cell_type": "markdown",
   "metadata": {},
   "source": [
    "## Checking for missing values "
   ]
  },
  {
   "cell_type": "code",
   "execution_count": 5,
   "metadata": {},
   "outputs": [
    {
     "data": {
      "text/plain": [
       "S.No                    0\n",
       "actual                  0\n",
       "pred                    0\n",
       "alive                   0\n",
       "plod                    0\n",
       "name                    0\n",
       "title                1008\n",
       "male                    0\n",
       "culture              1269\n",
       "dateOfBirth          1513\n",
       "DateoFdeath          1502\n",
       "mother               1925\n",
       "father               1920\n",
       "heir                 1923\n",
       "house                 427\n",
       "spouse               1670\n",
       "book1                   0\n",
       "book2                   0\n",
       "book3                   0\n",
       "book4                   0\n",
       "book5                   0\n",
       "isAliveMother        1925\n",
       "isAliveFather        1920\n",
       "isAliveHeir          1923\n",
       "isAliveSpouse        1670\n",
       "isMarried               0\n",
       "isNoble                 0\n",
       "age                  1513\n",
       "numDeadRelations        0\n",
       "boolDeadRelations       0\n",
       "isPopular               0\n",
       "popularity              0\n",
       "isAlive                 0\n",
       "dtype: int64"
      ]
     },
     "execution_count": 5,
     "metadata": {},
     "output_type": "execute_result"
    }
   ],
   "source": [
    "# this returns the total records of missing values in each field\n",
    "# this could be used to perdict how many books the character would live through.\n",
    "# I would have to add up the number of books with those appearing in only book 1 having a book value of 1,\n",
    "# while those who survived till book five having a book number of 5.\n",
    "character_predictions.isnull().sum()"
   ]
  },
  {
   "cell_type": "code",
   "execution_count": 7,
   "metadata": {},
   "outputs": [
    {
     "name": "stdout",
     "output_type": "stream",
     "text": [
      "<class 'pandas.core.frame.DataFrame'>\n",
      "RangeIndex: 1946 entries, 0 to 1945\n",
      "Data columns (total 33 columns):\n",
      "S.No                 1946 non-null int64\n",
      "actual               1946 non-null int64\n",
      "pred                 1946 non-null int64\n",
      "alive                1946 non-null float64\n",
      "plod                 1946 non-null float64\n",
      "name                 1946 non-null object\n",
      "title                938 non-null object\n",
      "male                 1946 non-null int64\n",
      "culture              677 non-null object\n",
      "dateOfBirth          433 non-null float64\n",
      "DateoFdeath          444 non-null float64\n",
      "mother               21 non-null object\n",
      "father               26 non-null object\n",
      "heir                 23 non-null object\n",
      "house                1519 non-null object\n",
      "spouse               276 non-null object\n",
      "book1                1946 non-null int64\n",
      "book2                1946 non-null int64\n",
      "book3                1946 non-null int64\n",
      "book4                1946 non-null int64\n",
      "book5                1946 non-null int64\n",
      "isAliveMother        21 non-null float64\n",
      "isAliveFather        26 non-null float64\n",
      "isAliveHeir          23 non-null float64\n",
      "isAliveSpouse        276 non-null float64\n",
      "isMarried            1946 non-null int64\n",
      "isNoble              1946 non-null int64\n",
      "age                  433 non-null float64\n",
      "numDeadRelations     1946 non-null int64\n",
      "boolDeadRelations    1946 non-null int64\n",
      "isPopular            1946 non-null int64\n",
      "popularity           1946 non-null float64\n",
      "isAlive              1946 non-null int64\n",
      "dtypes: float64(10), int64(15), object(8)\n",
      "memory usage: 501.8+ KB\n"
     ]
    }
   ],
   "source": [
    "character_predictions.info()"
   ]
  },
  {
   "cell_type": "code",
   "execution_count": 6,
   "metadata": {},
   "outputs": [
    {
     "data": {
      "text/plain": [
       "Name                    0\n",
       "Allegiances             0\n",
       "Death Year            612\n",
       "Book of Death         610\n",
       "Death Chapter         618\n",
       "Book Intro Chapter     12\n",
       "Gender                  0\n",
       "Nobility                0\n",
       "GoT                     0\n",
       "CoK                     0\n",
       "SoS                     0\n",
       "FfC                     0\n",
       "DwD                     0\n",
       "dtype: int64"
      ]
     },
     "execution_count": 6,
     "metadata": {},
     "output_type": "execute_result"
    }
   ],
   "source": [
    "\n",
    "character_deaths.isnull().sum()"
   ]
  },
  {
   "cell_type": "code",
   "execution_count": 8,
   "metadata": {},
   "outputs": [
    {
     "data": {
      "text/plain": [
       "name                   0\n",
       "year                   0\n",
       "battle_number          0\n",
       "attacker_king          2\n",
       "defender_king          3\n",
       "attacker_1             0\n",
       "attacker_2            28\n",
       "attacker_3            35\n",
       "attacker_4            36\n",
       "defender_1             1\n",
       "defender_2            36\n",
       "defender_3            38\n",
       "defender_4            38\n",
       "attacker_outcome       1\n",
       "battle_type            1\n",
       "major_death            1\n",
       "major_capture          1\n",
       "attacker_size         14\n",
       "defender_size         19\n",
       "attacker_commander     1\n",
       "defender_commander    10\n",
       "summer                 1\n",
       "location               1\n",
       "region                 0\n",
       "note                  33\n",
       "dtype: int64"
      ]
     },
     "execution_count": 8,
     "metadata": {},
     "output_type": "execute_result"
    }
   ],
   "source": [
    "battles.isnull().sum()"
   ]
  },
  {
   "cell_type": "code",
   "execution_count": 9,
   "metadata": {},
   "outputs": [
    {
     "name": "stdout",
     "output_type": "stream",
     "text": [
      "<class 'pandas.core.frame.DataFrame'>\n",
      "RangeIndex: 38 entries, 0 to 37\n",
      "Data columns (total 25 columns):\n",
      "name                  38 non-null object\n",
      "year                  38 non-null int64\n",
      "battle_number         38 non-null int64\n",
      "attacker_king         36 non-null object\n",
      "defender_king         35 non-null object\n",
      "attacker_1            38 non-null object\n",
      "attacker_2            10 non-null object\n",
      "attacker_3            3 non-null object\n",
      "attacker_4            2 non-null object\n",
      "defender_1            37 non-null object\n",
      "defender_2            2 non-null object\n",
      "defender_3            0 non-null float64\n",
      "defender_4            0 non-null float64\n",
      "attacker_outcome      37 non-null object\n",
      "battle_type           37 non-null object\n",
      "major_death           37 non-null float64\n",
      "major_capture         37 non-null float64\n",
      "attacker_size         24 non-null float64\n",
      "defender_size         19 non-null float64\n",
      "attacker_commander    37 non-null object\n",
      "defender_commander    28 non-null object\n",
      "summer                37 non-null float64\n",
      "location              37 non-null object\n",
      "region                38 non-null object\n",
      "note                  5 non-null object\n",
      "dtypes: float64(7), int64(2), object(16)\n",
      "memory usage: 7.5+ KB\n"
     ]
    }
   ],
   "source": [
    "battles.info()\n"
   ]
  },
  {
   "cell_type": "code",
   "execution_count": 15,
   "metadata": {},
   "outputs": [
    {
     "data": {
      "image/png": "[encoded data removed]",
      "text/plain": [
       "<matplotlib.figure.Figure at 0xa0d1f80ef0>"
      ]
     },
     "metadata": {},
     "output_type": "display_data"
    }
   ],
   "source": [
    "p = battles.groupby('year').sum()[[\"major_death\", \"major_capture\"]].plot.babr(rot = 0)\n",
    "_ = p.set(xlabel = \"Year\", ylabel = \"No. of Death/Capture Events\", ylim = (0, 9)), p.legend([\"Major Deaths\", \"Major Captures\"])"
   ]
  },
  {
   "cell_type": "code",
   "execution_count": null,
   "metadata": {
    "collapsed": true
   },
   "outputs": [],
   "source": []
  }
 ],
 "metadata": {
  "kernelspec": {
   "display_name": "Python 3",
   "language": "python",
   "name": "python3"
  },
  "language_info": {
   "codemirror_mode": {
    "name": "ipython",
    "version": 3
   },
   "file_extension": ".py",
   "mimetype": "text/x-python",
   "name": "python",
   "nbconvert_exporter": "python",
   "pygments_lexer": "ipython3",
   "version": "3.6.2"
  }
 },
 "nbformat": 4,
 "nbformat_minor": 2
}
